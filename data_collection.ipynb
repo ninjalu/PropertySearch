{
 "metadata": {
  "language_info": {
   "codemirror_mode": {
    "name": "ipython",
    "version": 3
   },
   "file_extension": ".py",
   "mimetype": "text/x-python",
   "name": "python",
   "nbconvert_exporter": "python",
   "pygments_lexer": "ipython3",
   "version": "3.8.3-final"
  },
  "orig_nbformat": 2,
  "kernelspec": {
   "name": "python_defaultSpec_1597437327154",
   "display_name": "Python 3.8.3 64-bit ('base': conda)"
  }
 },
 "nbformat": 4,
 "nbformat_minor": 2,
 "cells": [
  {
   "cell_type": "code",
   "execution_count": 2,
   "metadata": {
    "tags": []
   },
   "outputs": [],
   "source": [
    "from bs4 import BeautifulSoup\n",
    "from requests import get\n",
    "import pandas as pd\n",
    "import itertools\n",
    "import matplotlib.pyplot as plt\n",
    "from decimal import Decimal\n",
    "from re import sub\n",
    "import re\n",
    "import sqlite3\n",
    "import urllib.request\n",
    "from selenium.webdriver.common.by import By\n"
   ]
  },
  {
   "cell_type": "code",
   "execution_count": 9,
   "metadata": {},
   "outputs": [],
   "source": [
    "rm = 'https://www.rightmove.co.uk/property-for-sale/find.html?locationIdentifier=REGION%5E87490&maxPrice=3000000&sortType=6&propertyTypes=&includeSSTC=true&mustHave=garden&dontShow=newHome%2Cretirement%2CsharedOwnership&furnishTypes=&keywords='\n",
    "response = get(rm)"
   ]
  },
  {
   "cell_type": "code",
   "execution_count": 10,
   "metadata": {
    "tags": []
   },
   "outputs": [
    {
     "output_type": "stream",
     "name": "stdout",
     "text": "<Response [200]>\n"
    }
   ],
   "source": [
    "print(response)"
   ]
  },
  {
   "cell_type": "code",
   "execution_count": 11,
   "metadata": {
    "tags": []
   },
   "outputs": [
    {
     "output_type": "stream",
     "name": "stdout",
     "text": "<!DOCTYPE html>\n<html lang=\"en-GB\" class=\"is-not-modern property-for-sale channel--buy \">\n<head>\n    <meta charset=\"utf-8\">\n    <title>Properties For Sale in London | Rightmove</title>\n    <meta http-equiv=\"X-UA-Compatible\" content=\"IE=Edge\"/>\n    <meta name=\"viewport\" content=\"width=device-width, shrink-to-fit=no, initial-scale=1.0, user-scalable=no\"/>\n    <meta name=\"format-detection\" content=\"telephone=no\"/>\n    <meta name=\"HandheldFriendly\" content=\"True\"/>\n    <meta name=\"description\" content=\"Flats &amp; Houses For Sale in London - Find properties with Rightmove - the UK&#39;s largest selection of properties.\"/>\n    <meta name=\"referrer\" content=\"origin-when-cross-origin\"><link rel=\"preconnect\" href=\"https://media.rightmove.co.uk:443\" crossorigin/>\n    <link rel=\"preconnect\" href=\"//product.rightmove.co.uk\" crossorigin/><link rel=\"shortcut icon\" href=\"/pvw/images/favicons/rebranded/favicon.ico\"><link rel=\"apple-touch-icon\" sizes=\"72x72\" href=\"/pvw/images/favicons/rebranded/apple-\n"
    }
   ],
   "source": [
    "print(response.text[:1000])"
   ]
  },
  {
   "cell_type": "code",
   "execution_count": 13,
   "metadata": {},
   "outputs": [],
   "source": [
    "# big soup for search results\n",
    "big_soup = BeautifulSoup(response.text, 'lxml') "
   ]
  },
  {
   "cell_type": "code",
   "execution_count": 15,
   "metadata": {
    "tags": []
   },
   "outputs": [],
   "source": [
    "# get individual property pages from the search results\n",
    "links, ids = get_links(big_soup)"
   ]
  },
  {
   "cell_type": "code",
   "execution_count": 63,
   "metadata": {},
   "outputs": [],
   "source": [
    "# scrape text data from individual property pages and save in SQL database\n",
    "data_tuple = get_prop_data(links, ids)"
   ]
  },
  {
   "cell_type": "code",
   "execution_count": 219,
   "metadata": {
    "tags": []
   },
   "outputs": [
    {
     "output_type": "stream",
     "name": "stdout",
     "text": "No floor plan!\nNo floor plan!\n"
    }
   ],
   "source": [
    "get_img(links, ids)"
   ]
  },
  {
   "cell_type": "code",
   "execution_count": 152,
   "metadata": {},
   "outputs": [],
   "source": [
    "# download images given the url and file path\n",
    "def link_to_img(link, id, file_path, i=1):\n",
    "    file_name = 'image-{}-{}.jpg'.format(id, i)\n",
    "    full_path = '{}{}'.format(file_path, file_name)\n",
    "    urllib.request.urlretrieve(link, full_path)\n",
    "    return None"
   ]
  },
  {
   "cell_type": "code",
   "execution_count": 218,
   "metadata": {},
   "outputs": [],
   "source": [
    "# a function takes in property links and downloads images and floor plans to local folder\n",
    "def get_img(links,ids):\n",
    "    file_path_img = 'images/'\n",
    "    file_path_fp = 'floorplan/'\n",
    "    for link, _id in zip(links,ids):\n",
    "        response = get(link)\n",
    "        soup = BeautifulSoup(response.text, 'lxml')\n",
    "        try: \n",
    "            fp_link = soup.find('img', src=lambda x: x and \"FLP\" in x)['src']\n",
    "            link_to_img(fp_link, _id, file_path_fp)\n",
    "        except: \n",
    "            print('No floor plan!')\n",
    "        img_links = get_img_links(soup)\n",
    "        for i, url in enumerate(img_links):\n",
    "            link_to_img(url, _id, file_path_img, i)\n",
    "    return None\n"
   ]
  },
  {
   "cell_type": "code",
   "execution_count": 14,
   "metadata": {},
   "outputs": [],
   "source": [
    "def get_links(soup):  # return a list of property links and ids from search page\n",
    "   link_container = soup.find_all('a', {'class': 'propertyCard-headerLink'})\n",
    "   links = []\n",
    "   ids = []\n",
    "   rmpage = 'http://www.rightmove.co.uk'\n",
    "   for link in link_container:\n",
    "       links.append(rmpage+link['href'])\n",
    "       ids.append(re.findall(r'\\d+', link['href'])[0])\n",
    "   return links, ids"
   ]
  },
  {
   "cell_type": "code",
   "execution_count": 62,
   "metadata": {},
   "outputs": [],
   "source": [
    "def get_prop_data(links, ids): # from search page to property pages and scrape texts and store in SQL database\n",
    "    keys = []\n",
    "    title = []\n",
    "    price = []\n",
    "    description = []\n",
    "\n",
    "    for link, _id in zip(links, ids):\n",
    "        response = get(link)\n",
    "        soup = BeautifulSoup(response.text, 'lxml')\n",
    "        keys.append(_id)\n",
    "        title.append(get_title(soup))\n",
    "        price.append(get_price(soup))\n",
    "        description.append(get_desc(soup))\n",
    "    data_tuple = list(zip(keys, title, price, description))\n",
    "    # print(data_tuple)\n",
    "    # sql_insert(data_tuple)\n",
    "    conn = sqlite3.connect('rightmove.db')\n",
    "    c = conn.cursor()\n",
    "    c.executemany(\"\"\" INSERT INTO rightmove VALUES (?,?,?,?)\"\"\", data_tuple)\n",
    "    conn.commit()\n",
    "    conn.close()\n",
    "    return data_tuple "
   ]
  },
  {
   "cell_type": "code",
   "execution_count": 147,
   "metadata": {},
   "outputs": [],
   "source": [
    "def get_img_links(soup):  # return property image links on property page\n",
    "    links = []\n",
    "    for tag in soup.find_all('meta', {'property': 'og:image'}):\n",
    "        links.append(tag['content'])\n",
    "    return links"
   ]
  },
  {
   "cell_type": "code",
   "execution_count": 73,
   "metadata": {},
   "outputs": [],
   "source": [
    "def get_title(soup): # return property price on property page\n",
    "    return soup.find('title').text\n",
    "    "
   ]
  },
  {
   "cell_type": "code",
   "execution_count": 72,
   "metadata": {},
   "outputs": [],
   "source": [
    "def get_price(soup): # return property price on property page\n",
    "    text = soup.find(lambda tag: tag.name =='strong' and '£' in tag.text).text\n",
    "    price = int(Decimal(sub(r'[^\\d.]', '', text)))\n",
    "    return price\n"
   ]
  },
  {
   "cell_type": "code",
   "execution_count": 71,
   "metadata": {},
   "outputs": [],
   "source": [
    "def get_desc(soup): # return the full description on property page\n",
    "    return soup.find('p', {'itemprop': 'description'}).text.strip()"
   ]
  },
  {
   "cell_type": "code",
   "execution_count": 198,
   "metadata": {},
   "outputs": [],
   "source": [
    "def get_floorplan(soup): # return the floor plan links on property page\n",
    "    return soup.find('img', scr=lambda x: x and 'FLP' in x)['src']\n"
   ]
  },
  {
   "cell_type": "code",
   "execution_count": 169,
   "metadata": {},
   "outputs": [],
   "source": [
    "response1 = get('http://www.rightmove.co.uk/property-for-sale/property-72446748.html')\n",
    "soup1 = BeautifulSoup(response1.text, 'lxml')"
   ]
  },
  {
   "cell_type": "code",
   "execution_count": 197,
   "metadata": {
    "tags": []
   },
   "outputs": [
    {
     "output_type": "execute_result",
     "data": {
      "text/plain": "'https://media.rightmove.co.uk/dir/23k/22559/72446748/22559_29890607_FLP_02_0000_max_600x600.jpg'"
     },
     "metadata": {},
     "execution_count": 197
    }
   ],
   "source": [
    "soup1.find('img', src=lambda x: x and \"FLP\" in x)['src']\n",
    "        # tag.find_all('img', {'alt': 'Floorplan'})"
   ]
  },
  {
   "cell_type": "code",
   "execution_count": 120,
   "metadata": {},
   "outputs": [
    {
     "output_type": "execute_result",
     "data": {
      "text/plain": "['http://www.rightmove.co.uk/property-for-sale/property-87847934.html',\n 'http://www.rightmove.co.uk/property-for-sale/property-72446748.html',\n 'http://www.rightmove.co.uk/property-for-sale/property-95880155.html',\n 'http://www.rightmove.co.uk/property-for-sale/property-83265223.html',\n 'http://www.rightmove.co.uk/property-for-sale/property-72446643.html',\n 'http://www.rightmove.co.uk/property-for-sale/property-72446631.html',\n 'http://www.rightmove.co.uk/property-for-sale/property-72446628.html',\n 'http://www.rightmove.co.uk/property-for-sale/property-83264551.html',\n 'http://www.rightmove.co.uk/property-for-sale/property-95875526.html',\n 'http://www.rightmove.co.uk/property-for-sale/property-83259595.html',\n 'http://www.rightmove.co.uk/property-for-sale/property-72446376.html',\n 'http://www.rightmove.co.uk/property-for-sale/property-72446340.html',\n 'http://www.rightmove.co.uk/property-for-sale/property-95052434.html',\n 'http://www.rightmove.co.uk/property-for-sale/property-94921547.html',\n 'http://www.rightmove.co.uk/property-for-sale/property-72446247.html',\n 'http://www.rightmove.co.uk/property-for-sale/property-81513493.html',\n 'http://www.rightmove.co.uk/property-for-sale/property-72446115.html',\n 'http://www.rightmove.co.uk/property-for-sale/property-78118489.html',\n 'http://www.rightmove.co.uk/property-for-sale/property-95870126.html',\n 'http://www.rightmove.co.uk/property-for-sale/property-83255029.html',\n 'http://www.rightmove.co.uk/property-for-sale/property-95731970.html',\n 'http://www.rightmove.co.uk/property-for-sale/property-72445728.html',\n 'http://www.rightmove.co.uk/property-for-sale/property-89347490.html',\n 'http://www.rightmove.co.uk/property-for-sale/property-95859344.html',\n 'http://www.rightmove.co.uk/property-for-sale/property-83250706.html']"
     },
     "metadata": {},
     "execution_count": 120
    }
   ],
   "source": [
    "links"
   ]
  },
  {
   "cell_type": "code",
   "execution_count": null,
   "metadata": {},
   "outputs": [],
   "source": []
  },
  {
   "cell_type": "markdown",
   "metadata": {},
   "source": [
    "Scrape image"
   ]
  },
  {
   "cell_type": "code",
   "execution_count": 103,
   "metadata": {
    "tags": []
   },
   "outputs": [
    {
     "output_type": "execute_result",
     "data": {
      "text/plain": "['prop87847934',\n 'prop72418641',\n 'prop72418614',\n 'prop83201740',\n 'prop71823405',\n 'prop83201713',\n 'prop83201689',\n 'prop83201695',\n 'prop83201680',\n 'prop83201686',\n 'prop83201656',\n 'prop95815424',\n 'prop83201629',\n 'prop93971246',\n 'prop94402898',\n 'prop95815343',\n 'prop83201476',\n 'prop83201473',\n 'prop95815328',\n 'prop95815319',\n 'prop95815325',\n 'prop93963950',\n 'prop95815295',\n 'prop95815277',\n 'prop95815238']"
     },
     "metadata": {},
     "execution_count": 103
    }
   ],
   "source": [
    "id_list = []\n",
    "for id in id_container:\n",
    "    id_list.append(id['id'])\n",
    "id_list"
   ]
  },
  {
   "cell_type": "markdown",
   "metadata": {},
   "source": [
    "Scrape nseted links"
   ]
  },
  {
   "cell_type": "code",
   "execution_count": 11,
   "metadata": {},
   "outputs": [],
   "source": [
    "\n",
    "api_key = 'cvvxh2z2qyfvwvcwtweu8rks'\n",
    "r = get('http://api.zoopla.co.uk/api/v1/property_listings.json?area=London&minimum_beds=4&api_key{}'.format(api_key))"
   ]
  },
  {
   "cell_type": "code",
   "execution_count": 12,
   "metadata": {},
   "outputs": [
    {
     "output_type": "execute_result",
     "data": {
      "text/plain": "403"
     },
     "metadata": {},
     "execution_count": 12
    }
   ],
   "source": [
    "r.status_code"
   ]
  },
  {
   "cell_type": "code",
   "execution_count": 13,
   "metadata": {},
   "outputs": [
    {
     "output_type": "execute_result",
     "data": {
      "text/plain": "<bound method Response.json of <Response [403]>>"
     },
     "metadata": {},
     "execution_count": 13
    }
   ],
   "source": [
    "r.json"
   ]
  },
  {
   "cell_type": "code",
   "execution_count": 14,
   "metadata": {},
   "outputs": [],
   "source": [
    "from rightmove_webscraper import RightmoveData"
   ]
  },
  {
   "cell_type": "code",
   "execution_count": 15,
   "metadata": {},
   "outputs": [],
   "source": [
    "url = \"https://www.rightmove.co.uk/property-for-sale/find.html?locationIdentifier=REGION%5E87490&index=192&propertyTypes=&maxDaysSinceAdded=1&mustHave=&dontShow=&furnishTypes=&keywords=\"\n",
    "rm = RightmoveData(url)\n"
   ]
  },
  {
   "cell_type": "code",
   "execution_count": 17,
   "metadata": {},
   "outputs": [
    {
     "output_type": "execute_result",
     "data": {
      "text/plain": "0       http://www.rightmove.co.uk/property-for-sale/p...\n1       http://www.rightmove.co.uk/property-for-sale/p...\n2       http://www.rightmove.co.uk/property-for-sale/p...\n3       http://www.rightmove.co.uk/property-for-sale/p...\n4       http://www.rightmove.co.uk/property-for-sale/p...\n                              ...                        \n1070    http://www.rightmove.co.uk/property-for-sale/p...\n1071    http://www.rightmove.co.uk/property-for-sale/p...\n1072    http://www.rightmove.co.uk/property-for-sale/p...\n1073    http://www.rightmove.co.uk/property-for-sale/p...\n1074    http://www.rightmove.co.uk/property-for-sale/p...\nName: url, Length: 1075, dtype: object"
     },
     "metadata": {},
     "execution_count": 17
    }
   ],
   "source": [
    "property_links = rm.get_results.url"
   ]
  }
 ]
}